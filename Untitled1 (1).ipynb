{
  "nbformat": 4,
  "nbformat_minor": 0,
  "metadata": {
    "colab": {
      "provenance": []
    },
    "kernelspec": {
      "name": "python3",
      "display_name": "Python 3"
    },
    "language_info": {
      "name": "python"
    }
  },
  "cells": [
    {
      "cell_type": "markdown",
      "source": [
        "**11th June - Python (Functions Assignment) - 1**"
      ],
      "metadata": {
        "id": "Xs0AqfwGPuDn"
      }
    },
    {
      "cell_type": "markdown",
      "source": [
        "Q1. What is a lambda function in Python, and how does it differ from a regular function?"
      ],
      "metadata": {
        "id": "Hdmzx3RdP9vA"
      }
    },
    {
      "cell_type": "markdown",
      "source": [
        "ANS1. Lambda Function in Python\n",
        "A lambda function in Python is a small, anonymous function defined using the lambda keyword. Unlike regular functions defined with def, lambda functions can have only one expression and do not have a name. Lambda functions are typically used for short, simple operations.\n",
        "\n",
        "Example:"
      ],
      "metadata": {
        "id": "ZBcCMo7LQAq1"
      }
    },
    {
      "cell_type": "code",
      "source": [
        "# Regular function\n",
        "def add(a, b):\n",
        "    return a + b\n",
        "\n",
        "# Lambda function\n",
        "add_lambda = lambda a, b: a + b\n"
      ],
      "metadata": {
        "id": "-Iv0EA7RQJuU"
      },
      "execution_count": 1,
      "outputs": []
    },
    {
      "cell_type": "markdown",
      "source": [
        "Q2. Can a lambda function in Python have multiple arguments? If yes, how can you define and use\n",
        "them?"
      ],
      "metadata": {
        "id": "wE9UV2crQRgJ"
      }
    },
    {
      "cell_type": "markdown",
      "source": [
        "ANS2. Multiple Arguments in Lambda Functions\n",
        "Yes, a lambda function can have multiple arguments. You define them by listing the arguments before the colon and the expression after the colon.\n",
        "\n",
        "Example:"
      ],
      "metadata": {
        "id": "r3MMTP_sQSo_"
      }
    },
    {
      "cell_type": "code",
      "source": [
        "# Lambda function with multiple arguments\n",
        "multiply = lambda x, y: x * y\n",
        "\n",
        "# Usage\n",
        "result = multiply(3, 4)\n",
        "print(result)"
      ],
      "metadata": {
        "colab": {
          "base_uri": "https://localhost:8080/"
        },
        "id": "bU-cXFucQV4s",
        "outputId": "50999731-6c08-4321-eca6-e273b9f38b0c"
      },
      "execution_count": 19,
      "outputs": [
        {
          "output_type": "stream",
          "name": "stdout",
          "text": [
            "12\n"
          ]
        }
      ]
    },
    {
      "cell_type": "markdown",
      "source": [
        "Q3. How are lambda functions typically used in Python? Provide an example use case."
      ],
      "metadata": {
        "id": "N-Z6N7DsQgSP"
      }
    },
    {
      "cell_type": "markdown",
      "source": [
        "ANS3. Typical Use of Lambda Functions\n",
        "Lambda functions are commonly used in Python for short, throwaway functions needed for a short period, often used with functions like map(), filter(), and sorted().\n",
        "\n",
        "Example:"
      ],
      "metadata": {
        "id": "rXJDJOQZQkh3"
      }
    },
    {
      "cell_type": "code",
      "source": [
        "# Using lambda with map to square a list of numbers\n",
        "numbers = [1, 2, 3, 4]\n",
        "squared = list(map(lambda x: x**2, numbers))  # Output: [1, 4, 9, 16]\n"
      ],
      "metadata": {
        "id": "4qmqJ0MoQoYF"
      },
      "execution_count": 3,
      "outputs": []
    },
    {
      "cell_type": "markdown",
      "source": [
        "Q4. What are the advantages and limitations of lambda functions compared to regular functions in\n",
        "Python?"
      ],
      "metadata": {
        "id": "A9TrG05rQsJj"
      }
    },
    {
      "cell_type": "markdown",
      "source": [
        "ANS4. Advantages and Limitations of Lambda Functions\n",
        "**Advantages:**\n",
        "\n",
        "* Concise: Can be written in a single\n",
        "line, making the code cleaner.\n",
        "* Inline: Often used where functions are needed temporarily.\n",
        "\n",
        "**Limitations:**\n",
        "\n",
        "* Limited Functionality: Can only contain a single expression.\n",
        "* Readability: May reduce code readability if overused or used in complex expressions."
      ],
      "metadata": {
        "id": "DTe1u27EQwLo"
      }
    },
    {
      "cell_type": "markdown",
      "source": [
        "Q5. Are lambda functions in Python able to access variables defined outside of their own scope?\n",
        "Explain with an example."
      ],
      "metadata": {
        "id": "ShzlMSPmRJm-"
      }
    },
    {
      "cell_type": "markdown",
      "source": [
        "ANS5. Lambda Functions and Variable Scope\n",
        "Lambda functions can access variables defined outside of their own scope, known as closures.\n",
        "\n",
        "Example:"
      ],
      "metadata": {
        "id": "M-Gb2LTCROrJ"
      }
    },
    {
      "cell_type": "code",
      "source": [
        "# Accessing a variable outside the lambda function\n",
        "x = 10\n",
        "increment = lambda y: y + x\n",
        "\n",
        "print(increment(5))  # Output: 15\n"
      ],
      "metadata": {
        "colab": {
          "base_uri": "https://localhost:8080/"
        },
        "id": "Ou_k60GnRSMv",
        "outputId": "430ee507-8d72-4144-be1b-6b1759d902a1"
      },
      "execution_count": 4,
      "outputs": [
        {
          "output_type": "stream",
          "name": "stdout",
          "text": [
            "15\n"
          ]
        }
      ]
    },
    {
      "cell_type": "markdown",
      "source": [
        "Q6. Write a lambda function to calculate the square of a given number."
      ],
      "metadata": {
        "id": "eP4m78IrRZER"
      }
    },
    {
      "cell_type": "code",
      "source": [
        "square = lambda x: x ** 2\n",
        "\n",
        "print(square(4))\n"
      ],
      "metadata": {
        "colab": {
          "base_uri": "https://localhost:8080/"
        },
        "id": "IFEye4hxRbrX",
        "outputId": "58c01e72-bca4-4ec7-a7b1-a54a9497c123"
      },
      "execution_count": 5,
      "outputs": [
        {
          "output_type": "stream",
          "name": "stdout",
          "text": [
            "16\n"
          ]
        }
      ]
    },
    {
      "cell_type": "markdown",
      "source": [
        "Q7. Create a lambda function to find the maximum value in a list of integers."
      ],
      "metadata": {
        "id": "7BgMlbUGRilH"
      }
    },
    {
      "cell_type": "code",
      "source": [
        "max_value = lambda lst: max(lst)\n",
        "\n",
        "print(max_value([1, 5, 3, 9, 2]))\n"
      ],
      "metadata": {
        "colab": {
          "base_uri": "https://localhost:8080/"
        },
        "id": "cnuLn6e8RkVP",
        "outputId": "41f53781-6477-4349-9679-c40b92a97659"
      },
      "execution_count": 6,
      "outputs": [
        {
          "output_type": "stream",
          "name": "stdout",
          "text": [
            "9\n"
          ]
        }
      ]
    },
    {
      "cell_type": "markdown",
      "source": [
        "Q8. Implement a lambda function to filter out all the even numbers from a list of integers."
      ],
      "metadata": {
        "id": "0_nQq_m2Rr2O"
      }
    },
    {
      "cell_type": "code",
      "source": [
        "numbers = [1, 2, 3, 4, 5, 6]\n",
        "filter_even = list(filter(lambda x: x % 2 != 0, numbers))\n",
        "\n",
        "print(filter_even)"
      ],
      "metadata": {
        "colab": {
          "base_uri": "https://localhost:8080/"
        },
        "id": "QmCkrqetRt01",
        "outputId": "92e14cb6-5a62-4d9e-8508-e42e0d49ae60"
      },
      "execution_count": 7,
      "outputs": [
        {
          "output_type": "stream",
          "name": "stdout",
          "text": [
            "[1, 3, 5]\n"
          ]
        }
      ]
    },
    {
      "cell_type": "markdown",
      "source": [
        "Q9. Write a lambda function to sort a list of strings in ascending order based on the length of each\n",
        "string."
      ],
      "metadata": {
        "id": "IJ7mjR_6Rxoe"
      }
    },
    {
      "cell_type": "code",
      "source": [
        "strings = ['apple', 'banana', 'cherry', 'date']\n",
        "sorted_strings = sorted(strings, key=lambda s: len(s))\n",
        "\n",
        "print(sorted_strings)"
      ],
      "metadata": {
        "colab": {
          "base_uri": "https://localhost:8080/"
        },
        "id": "JnzeXT4JR2Y9",
        "outputId": "d3321972-9600-4bd3-fbfc-993f5c0bc2c9"
      },
      "execution_count": 8,
      "outputs": [
        {
          "output_type": "stream",
          "name": "stdout",
          "text": [
            "['date', 'apple', 'banana', 'cherry']\n"
          ]
        }
      ]
    },
    {
      "cell_type": "markdown",
      "source": [
        "Q10. Create a lambda function that takes two lists as input and returns a new list containing the\n",
        "common elements between the two lists."
      ],
      "metadata": {
        "id": "984PoMo8R9ux"
      }
    },
    {
      "cell_type": "code",
      "source": [
        "common_elements = lambda list1, list2: [item for item in list1 if item in list2]\n",
        "\n",
        "print(common_elements([1, 2, 3], [2, 3, 4]))\n"
      ],
      "metadata": {
        "colab": {
          "base_uri": "https://localhost:8080/"
        },
        "id": "8Fk1qRNbSAP-",
        "outputId": "3c65ebb0-b24a-4ed8-c380-7c029753e1b9"
      },
      "execution_count": 9,
      "outputs": [
        {
          "output_type": "stream",
          "name": "stdout",
          "text": [
            "[2, 3]\n"
          ]
        }
      ]
    },
    {
      "cell_type": "markdown",
      "source": [
        "Q11. Write a recursive function to calculate the factorial of a given positive integer."
      ],
      "metadata": {
        "id": "y9sXMQN7SZkw"
      }
    },
    {
      "cell_type": "code",
      "source": [
        "def factorial(n):\n",
        "    if n == 1:\n",
        "        return 1\n",
        "    else:\n",
        "        return n * factorial(n - 1)\n",
        "\n",
        "print(factorial(5))"
      ],
      "metadata": {
        "colab": {
          "base_uri": "https://localhost:8080/"
        },
        "id": "FmZ3VLWwSecU",
        "outputId": "a3bc0001-f257-47b5-a1ac-c9af6c97e737"
      },
      "execution_count": 11,
      "outputs": [
        {
          "output_type": "stream",
          "name": "stdout",
          "text": [
            "120\n"
          ]
        }
      ]
    },
    {
      "cell_type": "markdown",
      "source": [
        "Q12. Implement a recursive function to compute the nth Fibonacci number."
      ],
      "metadata": {
        "id": "HxujC4epSg1Z"
      }
    },
    {
      "cell_type": "code",
      "source": [
        "def fibonacci(n):\n",
        "    if n <= 1:\n",
        "        return n\n",
        "    else:\n",
        "        return fibonacci(n-1) + fibonacci(n-2)\n",
        "\n",
        "print(fibonacci(6))"
      ],
      "metadata": {
        "colab": {
          "base_uri": "https://localhost:8080/"
        },
        "id": "v6Hc8sVVSnUg",
        "outputId": "4358700e-e330-49b7-e3dc-f1fab68c5083"
      },
      "execution_count": 12,
      "outputs": [
        {
          "output_type": "stream",
          "name": "stdout",
          "text": [
            "8\n"
          ]
        }
      ]
    },
    {
      "cell_type": "markdown",
      "source": [
        "Q13. Create a recursive function to find the sum of all the elements in a given list."
      ],
      "metadata": {
        "id": "kcsbsERzS4bp"
      }
    },
    {
      "cell_type": "code",
      "source": [
        "def list_sum(lst):\n",
        "    if not lst:\n",
        "        return 0\n",
        "    else:\n",
        "        return lst[0] + list_sum(lst[1:])\n",
        "\n",
        "print(list_sum([1, 2, 3, 4]))\n"
      ],
      "metadata": {
        "colab": {
          "base_uri": "https://localhost:8080/"
        },
        "id": "F9Ys3KjOS9XX",
        "outputId": "4f5e26e7-c6ca-487d-ad7d-09036786283c"
      },
      "execution_count": 16,
      "outputs": [
        {
          "output_type": "stream",
          "name": "stdout",
          "text": [
            "10\n"
          ]
        }
      ]
    },
    {
      "cell_type": "markdown",
      "source": [
        "Q14. Write a recursive function to determine whether a given string is a palindrome."
      ],
      "metadata": {
        "id": "g9ZYbOxQTCM6"
      }
    },
    {
      "cell_type": "code",
      "source": [
        "def is_palindrome(s):\n",
        "    if len(s) <= 1:\n",
        "        return True\n",
        "    if s[0] != s[-1]:\n",
        "        return False\n",
        "    return is_palindrome(s[1:-1])\n",
        "\n",
        "print(is_palindrome(\"radar\"))"
      ],
      "metadata": {
        "colab": {
          "base_uri": "https://localhost:8080/"
        },
        "id": "0-3jH11DTF-l",
        "outputId": "50b91418-6c1f-4193-894a-b5e5bb60df3b"
      },
      "execution_count": 14,
      "outputs": [
        {
          "output_type": "stream",
          "name": "stdout",
          "text": [
            "True\n"
          ]
        }
      ]
    },
    {
      "cell_type": "markdown",
      "source": [
        "Q15. Implement a recursive function to find the greatest common divisor (GCD) of two positive integers."
      ],
      "metadata": {
        "id": "24eEWVhxTMPZ"
      }
    },
    {
      "cell_type": "code",
      "source": [
        "def gcd(a, b):\n",
        "    if b == 0:\n",
        "        return a\n",
        "    else:\n",
        "        return gcd(b, a % b)\n",
        "\n",
        "print(gcd(48, 18))"
      ],
      "metadata": {
        "colab": {
          "base_uri": "https://localhost:8080/"
        },
        "id": "Pseyiq41TNlx",
        "outputId": "b4d8fb31-20a3-425d-dbcb-be2769223386"
      },
      "execution_count": 15,
      "outputs": [
        {
          "output_type": "stream",
          "name": "stdout",
          "text": [
            "6\n"
          ]
        }
      ]
    }
  ]
}